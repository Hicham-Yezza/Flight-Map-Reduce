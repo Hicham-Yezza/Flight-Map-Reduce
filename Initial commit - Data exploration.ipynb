{
 "cells": [
  {
   "cell_type": "code",
   "execution_count": 37,
   "id": "54ea2b9d",
   "metadata": {},
   "outputs": [],
   "source": [
    "# BIG DATA TASK B -- VERSION 1.0"
   ]
  },
  {
   "cell_type": "code",
   "execution_count": 38,
   "id": "a4ba316a",
   "metadata": {},
   "outputs": [],
   "source": [
    "# Preparing data loading and cleaning options and chunk size calculation"
   ]
  },
  {
   "cell_type": "code",
   "execution_count": 39,
   "id": "1801f05d",
   "metadata": {},
   "outputs": [],
   "source": [
    "# Reading a CSV file"
   ]
  },
  {
   "cell_type": "code",
   "execution_count": 40,
   "id": "14c835ca",
   "metadata": {},
   "outputs": [
    {
     "name": "stdout",
     "output_type": "stream",
     "text": [
      "            0         1    2    3           4     5\n",
      "0  UES9151GS5  SQU6245R  DEN  FRA  1420564460  1049\n",
      "1  UES9151GS5  XXQ4064B  JFK  FRA  1420563917   802\n",
      "2  EZC9678QI6  SOH3431A  ORD  MIA  1420563649   250\n",
      "3  ONL0812DH1  SOH3431A  ORD  MIA  1420563649   250\n",
      "4  CYJ0225CH1  PME8178S  DEN  PEK  1420564409  1322\n",
      "Number of rows:  500\n",
      "Number of columns:  6\n"
     ]
    }
   ],
   "source": [
    "import pandas as pd\n",
    "\n",
    "# Read the CSV file\n",
    "df = pd.read_csv('AComp_Passenger_data_no_error.csv', header=None)\n",
    "\n",
    "# Examining the data in the dataframe\n",
    "print(df.head(5))\n",
    "print(\"Number of rows: \", df.shape[0])\n",
    "print(\"Number of columns: \", df.shape[1])"
   ]
  },
  {
   "cell_type": "code",
   "execution_count": 41,
   "id": "a6a71447",
   "metadata": {},
   "outputs": [],
   "source": [
    "# Adding a header row featuring: \n",
    "# PassngerID -- Format: 𝑋𝑋𝑋𝑛𝑛𝑛𝑛𝑋𝑋𝑛\n",
    "# FlightID -- Format: 𝑋𝑋𝑋𝑛𝑛𝑛𝑛𝑋\n",
    "# Origin -- From airport IATA/FAA code Format: 𝑋𝑋𝑋\n",
    "# Destination -- Destination airport IATA/FAA code Format: 𝑋𝑋𝑋\n",
    "# Depart_Time -- Departure time (GMT) Format: 𝑛 [10] (Unix ‘epoch’ time)\n",
    "# Duration -- Total flight time (mins) Format: 𝑛 [1. .4]"
   ]
  },
  {
   "cell_type": "code",
   "execution_count": 42,
   "id": "6d441acc",
   "metadata": {},
   "outputs": [
    {
     "name": "stdout",
     "output_type": "stream",
     "text": [
      "  PassengerID  FlightID Origin Destination  Depart_Time  Duration\n",
      "0  UES9151GS5  SQU6245R    DEN         FRA   1420564460      1049\n",
      "1  UES9151GS5  XXQ4064B    JFK         FRA   1420563917       802\n",
      "2  EZC9678QI6  SOH3431A    ORD         MIA   1420563649       250\n",
      "3  ONL0812DH1  SOH3431A    ORD         MIA   1420563649       250\n",
      "4  CYJ0225CH1  PME8178S    DEN         PEK   1420564409      1322\n",
      "Number of rows:  500\n",
      "Number of columns:  6\n"
     ]
    }
   ],
   "source": [
    "df.columns = ['PassengerID', 'FlightID', 'Origin', 'Destination', 'Depart_Time', 'Duration']\n",
    "\n",
    "# Display the data in the dataframe with the added header row\n",
    "\n",
    "print(df.head(5))\n",
    "print(\"Number of rows: \", df.shape[0])\n",
    "print(\"Number of columns: \", df.shape[1])"
   ]
  },
  {
   "cell_type": "code",
   "execution_count": 43,
   "id": "3961707c",
   "metadata": {},
   "outputs": [],
   "source": [
    "# Cleaning the file by removing duplicates:"
   ]
  },
  {
   "cell_type": "code",
   "execution_count": 44,
   "id": "c942bc40",
   "metadata": {},
   "outputs": [
    {
     "name": "stdout",
     "output_type": "stream",
     "text": [
      "  PassengerID  FlightID Origin Destination  Depart_Time  Duration\n",
      "0  UES9151GS5  SQU6245R    DEN         FRA   1420564460      1049\n",
      "1  UES9151GS5  XXQ4064B    JFK         FRA   1420563917       802\n",
      "2  EZC9678QI6  SOH3431A    ORD         MIA   1420563649       250\n",
      "3  ONL0812DH1  SOH3431A    ORD         MIA   1420563649       250\n",
      "4  CYJ0225CH1  PME8178S    DEN         PEK   1420564409      1322\n",
      "Number of rows:  389\n",
      "Number of columns:  6\n"
     ]
    }
   ],
   "source": [
    "df = df.drop_duplicates()\n",
    "\n",
    "# Access the cleaned data in the dataframe\n",
    "\n",
    "print(df.head(5))\n",
    "print(\"Number of rows: \", df.shape[0])\n",
    "print(\"Number of columns: \", df.shape[1])"
   ]
  },
  {
   "cell_type": "code",
   "execution_count": 45,
   "id": "ae687fe2",
   "metadata": {},
   "outputs": [],
   "source": [
    "# Calculating chunk size based on processor cores:"
   ]
  },
  {
   "cell_type": "code",
   "execution_count": 46,
   "id": "3502e6e6",
   "metadata": {},
   "outputs": [
    {
     "name": "stdout",
     "output_type": "stream",
     "text": [
      "Number of processor cores:  8\n",
      "Length of DataFrame:  389\n",
      "Calculated chunk size:  48\n"
     ]
    }
   ],
   "source": [
    "import multiprocessing\n",
    "\n",
    "# Determine the number of processor cores\n",
    "num_cores = multiprocessing.cpu_count()\n",
    "\n",
    "# Calculate chunk size based on processor cores\n",
    "chunk_size = int(len(df) / num_cores)\n",
    "\n",
    "# Print the number of processor cores and calculated values\n",
    "print(\"Number of processor cores: \", num_cores)\n",
    "print(\"Length of DataFrame: \", len(df))\n",
    "print(\"Calculated chunk size: \", chunk_size)\n",
    "\n",
    "\n",
    "\n"
   ]
  },
  {
   "cell_type": "code",
   "execution_count": null,
   "id": "17806ef6",
   "metadata": {},
   "outputs": [],
   "source": []
  }
 ],
 "metadata": {
  "kernelspec": {
   "display_name": "Python 3 (ipykernel)",
   "language": "python",
   "name": "python3"
  },
  "language_info": {
   "codemirror_mode": {
    "name": "ipython",
    "version": 3
   },
   "file_extension": ".py",
   "mimetype": "text/x-python",
   "name": "python",
   "nbconvert_exporter": "python",
   "pygments_lexer": "ipython3",
   "version": "3.8.8"
  }
 },
 "nbformat": 4,
 "nbformat_minor": 5
}
