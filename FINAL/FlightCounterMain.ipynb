{
 "cells": [
  {
   "cell_type": "code",
   "execution_count": 9,
   "id": "7420a8a9",
   "metadata": {},
   "outputs": [
    {
     "name": "stdout",
     "output_type": "stream",
     "text": [
      "Calculating number of mappers...\n",
      "Number of mappers: 8\n",
      "Calculating number of cores...\n",
      "Number of cores: 8\n",
      "Calculating number of combiners...\n",
      "Number of combiners: 1\n",
      "Calculating number of chunks...\n",
      "Number of chunks: 8\n",
      "\n",
      "Top 10 passengers with the most flights:\n",
      "\n",
      "PassengerID  TotalFlights\n",
      " UES9151GS5            17\n",
      " SPR4484HA6            17\n",
      " DAZ3029XA0            17\n",
      " HCA3158QA6            17\n",
      " EZC9678QI6            17\n",
      " CKZ3132BR4            16\n",
      " HGO4350KK1            16\n",
      " JJM4724RF7            15\n",
      " WBE6935NU3            15\n",
      " PUD8209OG3            15\n"
     ]
    }
   ],
   "source": [
    "#!/usr/bin/env python\n",
    "\n",
    "#FlightCounter - Main.py\n",
    "\n",
    "import pandas as pd\n",
    "\n",
    "import FlightCounterCommon\n",
    "\n",
    "if __name__ == '__main__':\n",
    "    \n",
    "    # Load the input data from a CSV file into a pandas DataFrame\n",
    "    df = pd.read_csv('AComp_Passenger_data_no_error.csv', header=None, names=['PassengerID', 'FlightID', 'Origin', 'Destination', 'Depart_Time', 'Duration'])\n",
    "    \n",
    "    # Preprocess the data     \n",
    "    df = FlightCounterCommon.clean_data(df)\n",
    "    \n",
    "    # call run_map_reduce\n",
    "\n",
    "    FlightCounterCommon.run_map_reduce(df)"
   ]
  },
  {
   "cell_type": "code",
   "execution_count": null,
   "id": "a1a845e2",
   "metadata": {},
   "outputs": [],
   "source": []
  }
 ],
 "metadata": {
  "kernelspec": {
   "display_name": "Python 3 (ipykernel)",
   "language": "python",
   "name": "python3"
  },
  "language_info": {
   "codemirror_mode": {
    "name": "ipython",
    "version": 3
   },
   "file_extension": ".py",
   "mimetype": "text/x-python",
   "name": "python",
   "nbconvert_exporter": "python",
   "pygments_lexer": "ipython3",
   "version": "3.8.8"
  }
 },
 "nbformat": 4,
 "nbformat_minor": 5
}
