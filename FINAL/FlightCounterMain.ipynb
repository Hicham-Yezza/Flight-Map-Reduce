{
 "cells": [
  {
   "cell_type": "code",
   "execution_count": null,
   "id": "28150352",
   "metadata": {},
   "outputs": [],
   "source": [
    "#FlightCounter - Main.py\n",
    "\n",
    "from common import run_map_reduce\n",
    "\n",
    "if __name__ == '__main__':\n",
    "    \n",
    "    # Load the input data from a CSV file into a pandas DataFrame\n",
    "    df = pd.read_csv('AComp_Passenger_data_no_error.csv', header=None, names=['PassengerID', 'FlightID', 'Origin', 'Destination', 'Depart_Time', 'Duration'])\n",
    "    \n",
    "    # Preprocess the data     \n",
    "    df = clean_data(df)\n",
    "    \n",
    "    # call run_map_reduce\n",
    "\n",
    "    run_map_reduce(df)"
   ]
  }
 ],
 "metadata": {
  "kernelspec": {
   "display_name": "Python 3 (ipykernel)",
   "language": "python",
   "name": "python3"
  },
  "language_info": {
   "codemirror_mode": {
    "name": "ipython",
    "version": 3
   },
   "file_extension": ".py",
   "mimetype": "text/x-python",
   "name": "python",
   "nbconvert_exporter": "python",
   "pygments_lexer": "ipython3",
   "version": "3.8.8"
  }
 },
 "nbformat": 4,
 "nbformat_minor": 5
}
